{
 "cells": [
  {
   "cell_type": "code",
   "execution_count": 1,
   "id": "96e4a848",
   "metadata": {},
   "outputs": [],
   "source": [
    "import numpy as np\n",
    "import pandas as pd\n",
    "import seaborn as sns\n",
    "import matplotlib.pyplot as plt\n",
    "\n",
    "np.set_printoptions(precision=3, suppress=True)"
   ]
  },
  {
   "cell_type": "code",
   "execution_count": 2,
   "id": "cc49617f",
   "metadata": {},
   "outputs": [
    {
     "name": "stdout",
     "output_type": "stream",
     "text": [
      "2.10.0\n"
     ]
    }
   ],
   "source": [
    "import tensorflow as tf\n",
    "\n",
    "from tensorflow import keras\n",
    "from tensorflow import feature_column\n",
    "from tensorflow.keras import layers\n",
    "\n",
    "print(tf.__version__)"
   ]
  },
  {
   "cell_type": "code",
   "execution_count": 3,
   "id": "fde5370b",
   "metadata": {},
   "outputs": [
    {
     "ename": "ModuleNotFoundError",
     "evalue": "No module named 'sklearn'",
     "output_type": "error",
     "traceback": [
      "\u001b[1;31m---------------------------------------------------------------------------\u001b[0m",
      "\u001b[1;31mModuleNotFoundError\u001b[0m                       Traceback (most recent call last)",
      "Cell \u001b[1;32mIn [3], line 1\u001b[0m\n\u001b[1;32m----> 1\u001b[0m \u001b[38;5;28;01mfrom\u001b[39;00m \u001b[38;5;21;01msklearn\u001b[39;00m\u001b[38;5;21;01m.\u001b[39;00m\u001b[38;5;21;01mpreprocessing\u001b[39;00m \u001b[38;5;28;01mimport\u001b[39;00m OneHotEncoder\n",
      "\u001b[1;31mModuleNotFoundError\u001b[0m: No module named 'sklearn'"
     ]
    }
   ],
   "source": [
    "from sklearn.preprocessing import OneHotEncoder"
   ]
  },
  {
   "cell_type": "markdown",
   "id": "655b2e90",
   "metadata": {},
   "source": [
    "## Get the data"
   ]
  },
  {
   "cell_type": "code",
   "execution_count": null,
   "id": "398ad3fc",
   "metadata": {},
   "outputs": [],
   "source": [
    "raw_data = pd.read_csv(\"../Data/abalone.data.csv\",\n",
    "                      names=['sex', 'lenght', 'diameter', 'height', 'whole_weight', 'shucked_weight', 'vicerea_weight',\n",
    "                            'shell_weight', 'rings'])"
   ]
  },
  {
   "cell_type": "code",
   "execution_count": null,
   "id": "df8b444f",
   "metadata": {},
   "outputs": [],
   "source": [
    "dataset = raw_data.copy()\n",
    "dataset.tail()"
   ]
  },
  {
   "cell_type": "markdown",
   "id": "ba64fda4",
   "metadata": {},
   "source": [
    "## Inspect Data"
   ]
  },
  {
   "cell_type": "code",
   "execution_count": null,
   "id": "e51010e9",
   "metadata": {},
   "outputs": [],
   "source": [
    "sns.pairplot(dataset[['lenght', 'diameter', 'height', 'whole_weight', 'shucked_weight', 'vicerea_weight',\n",
    "                      'shell_weight', 'rings']], diag_kind='kde')\n",
    "plt.show()"
   ]
  },
  {
   "cell_type": "markdown",
   "id": "04a42b5d",
   "metadata": {},
   "source": []
  },
  {
   "cell_type": "markdown",
   "id": "f2deaecb",
   "metadata": {},
   "source": [
    "## Feature eng"
   ]
  },
  {
   "cell_type": "markdown",
   "id": "6e1cd3ca",
   "metadata": {},
   "source": [
    "### Create label"
   ]
  },
  {
   "cell_type": "code",
   "execution_count": null,
   "id": "9c888802",
   "metadata": {},
   "outputs": [],
   "source": [
    "dataset['ages'] = dataset['rings'] + 1.5"
   ]
  },
  {
   "cell_type": "code",
   "execution_count": null,
   "id": "b62fa1da",
   "metadata": {},
   "outputs": [],
   "source": [
    "sns.pairplot(y_vars = ['ages'],\n",
    "             x_vars = ['lenght', 'diameter', 'height', 'whole_weight', 'shucked_weight', 'vicerea_weight',\n",
    "                       'shell_weight', 'rings', 'ages'],\n",
    "             data=dataset,\n",
    "             diag_kind='kde')\n",
    "plt.show()"
   ]
  },
  {
   "cell_type": "markdown",
   "id": "fac894d0",
   "metadata": {},
   "source": [
    "### Dummy variable"
   ]
  },
  {
   "cell_type": "code",
   "execution_count": null,
   "id": "3bdced16",
   "metadata": {},
   "outputs": [],
   "source": []
  }
 ],
 "metadata": {
  "kernelspec": {
   "display_name": "Python 3 (ipykernel)",
   "language": "python",
   "name": "python3"
  },
  "language_info": {
   "codemirror_mode": {
    "name": "ipython",
    "version": 3
   },
   "file_extension": ".py",
   "mimetype": "text/x-python",
   "name": "python",
   "nbconvert_exporter": "python",
   "pygments_lexer": "ipython3",
   "version": "3.9.5"
  }
 },
 "nbformat": 4,
 "nbformat_minor": 5
}
